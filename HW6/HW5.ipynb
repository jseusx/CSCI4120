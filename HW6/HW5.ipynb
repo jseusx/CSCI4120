{
 "cells": [
  {
   "cell_type": "markdown",
   "metadata": {},
   "source": [
    "# Homework 6\n",
    "You need to classify digits with SVM models in this homework. Use PCA to reduce data dimensionality (80% information remain). Compare performance of linear, radial, and polynomial kernals. Tune kernal parameters using Randomsearch method."
   ]
  },
  {
   "cell_type": "code",
   "execution_count": 10,
   "metadata": {},
   "outputs": [
    {
     "name": "stdout",
     "output_type": "stream",
     "text": [
      "Original dimensions: (1797, 64)\n",
      "Reduced dimensions: (1797, 13)\n",
      "Tuning hyperparameters for linear kernel...\n",
      "Best parameters for linear kernek: {'C': 3.845401188473625}\n",
      "Mean Cross-val accuracy for linear kernel: 0.9193\n",
      "Tuning hyperparameters for rbf kernel...\n",
      "Best parameters for rbf kernek: {'C': 6.0241456886204245, 'gamma': 0.047450412719997725}\n",
      "Mean Cross-val accuracy for rbf kernel: 0.3557\n",
      "Tuning hyperparameters for poly kernel...\n",
      "Best parameters for poly kernek: {'C': 9.799098521619943, 'degree': 3, 'gamma': 0.21333911067827616}\n",
      "Mean Cross-val accuracy for poly kernel: 0.9516\n",
      "\n",
      "Comparison of kernel performances:\n",
      "Linear kernel: 0.9193\n",
      "Rbf kernel: 0.3557\n",
      "Poly kernel: 0.9516\n"
     ]
    }
   ],
   "source": [
    "%matplotlib inline\n",
    "import numpy as np\n",
    "import matplotlib.pyplot as plt\n",
    "from sklearn import datasets, svm, metrics\n",
    "from sklearn.decomposition import PCA\n",
    "from sklearn.model_selection import RandomizedSearchCV, cross_val_score, train_test_split\n",
    "from scipy import stats\n",
    "\n",
    "# use seaborn plotting defaults\n",
    "import seaborn as sns; sns.set()\n",
    "from sklearn import datasets, svm, metrics\n",
    "\n",
    "# The digits dataset\n",
    "digits = datasets.load_digits()\n",
    "X, y = digits.data, digits.target\n",
    "\n",
    "pca = PCA(.80)\n",
    "X_reduced = pca.fit_transform(X)\n",
    "print(f\"Original dimensions: {X.shape}\")\n",
    "print(f\"Reduced dimensions: {X_reduced.shape}\")\n",
    "\n",
    "X_train, X_test, y_train, y_test = train_test_split(X_reduced, y, test_size=0.2, random_state=42)\n",
    "\n",
    "param_distributions = {\n",
    "    'C': stats.uniform(0.1, 10),\n",
    "    'gamma': stats.uniform(.001, 1),\n",
    "    'degree': [2, 3, 4],\n",
    "}\n",
    "\n",
    "kernels = ['linear', 'rbf', 'poly']\n",
    "best_params = {}\n",
    "scores = {}\n",
    "\n",
    "for kernel in kernels:\n",
    "    print (f\"Tuning hyperparameters for {kernel} kernel...\")\n",
    "    if kernel == 'linear':\n",
    "        param_distributions_local = {'C': param_distributions['C']}\n",
    "    elif kernel == 'rbf':\n",
    "        param_distributions_local = {'C': param_distributions['C'], 'gamma': param_distributions['gamma']}\n",
    "    elif kernel == 'poly':\n",
    "        param_distributions_local = {'C': param_distributions['C'], 'gamma': param_distributions['gamma'], 'degree': param_distributions['degree']}\n",
    "\n",
    "    svc = svm.SVC(kernel=kernel)\n",
    "    search = RandomizedSearchCV(svc, param_distributions=param_distributions_local, n_iter=50, cv=5, random_state=42, n_jobs=-1)\n",
    "    search.fit(X_train, y_train)\n",
    "\n",
    "    best_params[kernel] = search.best_params_\n",
    "    scores[kernel] = cross_val_score(search.best_estimator_, X_reduced, y, cv=5).mean()\n",
    "    print(f\"Best parameters for {kernel} kernel: {search.best_params_}\")\n",
    "    print(f\"Mean Cross-val accuracy for {kernel} kernel: {scores[kernel]:.4f}\")\n",
    "\n",
    "\n",
    "print(\"\\nComparison of kernel performances:\")\n",
    "for kernel, score in scores.items():\n",
    "    print(f\"{kernel.capitalize()} kernel: {score:.4f}\")"
   ]
  },
  {
   "cell_type": "code",
   "execution_count": null,
   "metadata": {},
   "outputs": [],
   "source": []
  }
 ],
 "metadata": {
  "kernelspec": {
   "display_name": "Python 3 (ipykernel)",
   "language": "python",
   "name": "python3"
  },
  "language_info": {
   "codemirror_mode": {
    "name": "ipython",
    "version": 3
   },
   "file_extension": ".py",
   "mimetype": "text/x-python",
   "name": "python",
   "nbconvert_exporter": "python",
   "pygments_lexer": "ipython3",
   "version": "3.8.10"
  }
 },
 "nbformat": 4,
 "nbformat_minor": 4
}
