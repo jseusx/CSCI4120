{
 "cells": [
  {
   "cell_type": "markdown",
   "metadata": {},
   "source": [
    "# Homework 5 RF Accuracy Improvement\n",
    "\n",
    "This assignment is inspired by examples of Shan-Hung Wu from National Tsing Hua University.\n",
    "\n",
    "Requirement: improve the accuracy per feature of the following code from 0.03 up to at least 0.45 and accuracy should be more than 0.92\n",
    "\n",
    "Here are three hints:\n",
    "\n",
    "    You can improve the ratio by picking out or \"creating\" several features.\n",
    "    Tune hyperparameters\n",
    "    The ratio can be improved from 0.03 up to 0.47."
   ]
  },
  {
   "cell_type": "code",
   "execution_count": 6,
   "metadata": {},
   "outputs": [
    {
     "name": "stdout",
     "output_type": "stream",
     "text": [
      "(569, 30)\n",
      "Selected features: 15/30\n",
      "Best Hyperparameters: {'n_estimators': 50, 'criterion': 'entropy', 'max_depth': 5}\n",
      "Average Accuracy: 0.9473\n",
      "Accuracy per Feature: 0.0632\n"
     ]
    }
   ],
   "source": [
    "from sklearn.model_selection import train_test_split, cross_val_score, StratifiedKFold\n",
    "from sklearn.datasets import load_breast_cancer\n",
    "from sklearn.metrics import accuracy_score\n",
    "from sklearn.ensemble import RandomForestClassifier\n",
    "from sklearn.feature_selection import SelectKBest, f_classif\n",
    "import numpy as np\n",
    "\n",
    "\n",
    "# load the breast_cancer dataset\n",
    "init_data = load_breast_cancer()\n",
    "(X, y) = load_breast_cancer(return_X_y=True)\n",
    "\n",
    "print(X.shape)\n",
    "\n",
    "k_features = 15\n",
    "selector = SelectKBest(score_func=f_classif,k=k_features)\n",
    "X_selected = selector.fit_transform(X,y)\n",
    "\n",
    "print(f\"Selected features: {k_features}/{X.shape[1]}\")\n",
    "\n",
    "best_accuracy = 0\n",
    "best_params = {}\n",
    "\n",
    "n_estimators_range = [50, 100, 150]\n",
    "criterion_range = ['gini', 'entropy']\n",
    "max_depth_range = [5, 10, None]\n",
    "\n",
    "for n_estimators in n_estimators_range:\n",
    "    for criterion in criterion_range:\n",
    "        for max_depth in max_depth_range:\n",
    "            clf = RandomForestClassifier(\n",
    "                n_estimators=n_estimators,\n",
    "                criterion=criterion,\n",
    "                max_depth=max_depth,\n",
    "                random_state=42\n",
    "            )\n",
    "\n",
    "\n",
    "            skf = StratifiedKFold(n_splits=5, shuffle=True, random_state=42)\n",
    "            cv_scores = cross_val_score(clf, X_selected, y, cv=skf, scoring= 'accuracy')\n",
    "            avg_accuracy = np.mean(cv_scores)\n",
    "\n",
    "            if avg_accuracy > best_accuracy:\n",
    "                best_accuracy = avg_accuracy\n",
    "                best_params = {\n",
    "                    'n_estimators' : n_estimators,\n",
    "                    'criterion' : criterion,\n",
    "                    'max_depth' : max_depth\n",
    "                }\n",
    "\n",
    "final_clf = RandomForestClassifier(**best_params, random_state=42)\n",
    "final_clf.fit(X_selected, y)\n",
    "\n",
    "final_scores = cross_val_score(final_clf, X_selected, y, cv=5, scoring='accuracy')\n",
    "average_accuracy = np.mean(final_scores)\n",
    "accuracy_per_feature = average_accuracy / k_features\n",
    "\n",
    "print(f\"Best Hyperparameters: {best_params}\")\n",
    "print(f\"Average Accuracy: {average_accuracy:.4f}\")\n",
    "print(f\"Accuracy per Feature: {accuracy_per_feature:.4f}\")\n",
    "\n",
    "# TODO Select some features (X), hint: based on the connections with\n",
    "# our Y (importance? correlation?)\n",
    "# TODO need 5 fold cross validation\n",
    "# TODO Tune parameters for RandomForestClassifier\n",
    "# TODO Calculate Average accuracy score\n",
    "# TODO Calculate Average (accuracy score/number of features)"
   ]
  },
  {
   "cell_type": "code",
   "execution_count": null,
   "metadata": {},
   "outputs": [],
   "source": []
  }
 ],
 "metadata": {
  "kernelspec": {
   "display_name": "Python 3 (ipykernel)",
   "language": "python",
   "name": "python3"
  },
  "language_info": {
   "codemirror_mode": {
    "name": "ipython",
    "version": 3
   },
   "file_extension": ".py",
   "mimetype": "text/x-python",
   "name": "python",
   "nbconvert_exporter": "python",
   "pygments_lexer": "ipython3",
   "version": "3.8.10"
  }
 },
 "nbformat": 4,
 "nbformat_minor": 4
}
